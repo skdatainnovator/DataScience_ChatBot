{
 "cells": [
  {
   "cell_type": "markdown",
   "metadata": {},
   "source": [
    "### Importing neccessary library"
   ]
  },
  {
   "cell_type": "code",
   "execution_count": 141,
   "metadata": {},
   "outputs": [],
   "source": [
    "import pandas as pd\n",
    "import numpy as np\n",
    "import string\n",
    "import re\n",
    "import nltk\n",
    "import json\n",
    "from nltk.stem import WordNetLemmatizer\n",
    "from nltk.corpus import stopwords  \n",
    "from sklearn.feature_extraction.text import CountVectorizer\n",
    "from sklearn.feature_extraction.text import TfidfVectorizer\n",
    "from sklearn.preprocessing import LabelEncoder, label_binarize\n",
    "from sklearn.linear_model import SGDClassifier\n",
    "from collections import Counter\n",
    "import nlpaug.augmenter.word as naw\n",
    "from tqdm import tqdm\n",
    "from sklearn.model_selection import train_test_split\n",
    "from sklearn.metrics import precision_score, recall_score, accuracy_score, roc_auc_score\n",
    "import gzip"
   ]
  },
  {
   "cell_type": "markdown",
   "metadata": {},
   "source": [
    "### Importing data science faq dataset"
   ]
  },
  {
   "cell_type": "code",
   "execution_count": 142,
   "metadata": {},
   "outputs": [],
   "source": [
    "path = \"DataScience_FAQ.csv\"\n",
    "df = pd.read_csv(path)"
   ]
  },
  {
   "cell_type": "code",
   "execution_count": 143,
   "metadata": {},
   "outputs": [
    {
     "data": {
      "text/html": [
       "<div>\n",
       "<style scoped>\n",
       "    .dataframe tbody tr th:only-of-type {\n",
       "        vertical-align: middle;\n",
       "    }\n",
       "\n",
       "    .dataframe tbody tr th {\n",
       "        vertical-align: top;\n",
       "    }\n",
       "\n",
       "    .dataframe thead th {\n",
       "        text-align: right;\n",
       "    }\n",
       "</style>\n",
       "<table border=\"1\" class=\"dataframe\">\n",
       "  <thead>\n",
       "    <tr style=\"text-align: right;\">\n",
       "      <th></th>\n",
       "      <th>S.No</th>\n",
       "      <th>Question</th>\n",
       "      <th>Answer</th>\n",
       "    </tr>\n",
       "  </thead>\n",
       "  <tbody>\n",
       "    <tr>\n",
       "      <th>0</th>\n",
       "      <td>NaN</td>\n",
       "      <td>data</td>\n",
       "      <td>the quantities, characters, or symbols on whic...</td>\n",
       "    </tr>\n",
       "    <tr>\n",
       "      <th>1</th>\n",
       "      <td>NaN</td>\n",
       "      <td>Data Science</td>\n",
       "      <td>Data science is an interdisciplinary field tha...</td>\n",
       "    </tr>\n",
       "    <tr>\n",
       "      <th>2</th>\n",
       "      <td>NaN</td>\n",
       "      <td>Where should I learn Data Science from?</td>\n",
       "      <td>Kaggle is the most popular learning platform a...</td>\n",
       "    </tr>\n",
       "    <tr>\n",
       "      <th>3</th>\n",
       "      <td>NaN</td>\n",
       "      <td>Do I need an extremely powerful computer to do...</td>\n",
       "      <td>While this may be the case for industrial leve...</td>\n",
       "    </tr>\n",
       "    <tr>\n",
       "      <th>4</th>\n",
       "      <td>NaN</td>\n",
       "      <td>Can you recommend some blogs, podcasts, course...</td>\n",
       "      <td>KDNuggets Blog, R Bloggers Blog Aggregator and...</td>\n",
       "    </tr>\n",
       "    <tr>\n",
       "      <th>...</th>\n",
       "      <td>...</td>\n",
       "      <td>...</td>\n",
       "      <td>...</td>\n",
       "    </tr>\n",
       "    <tr>\n",
       "      <th>114</th>\n",
       "      <td>NaN</td>\n",
       "      <td>confounding variables</td>\n",
       "      <td>These are extraneous variables in a statistica...</td>\n",
       "    </tr>\n",
       "    <tr>\n",
       "      <th>115</th>\n",
       "      <td>NaN</td>\n",
       "      <td>eigenvalue</td>\n",
       "      <td>Eigenvalues are the directions along which a p...</td>\n",
       "    </tr>\n",
       "    <tr>\n",
       "      <th>116</th>\n",
       "      <td>NaN</td>\n",
       "      <td>eigenvector</td>\n",
       "      <td>Eigenvectors are for understanding linear tran...</td>\n",
       "    </tr>\n",
       "    <tr>\n",
       "      <th>117</th>\n",
       "      <td>NaN</td>\n",
       "      <td>selection bias</td>\n",
       "      <td>Selection bias, in general, is a problematic s...</td>\n",
       "    </tr>\n",
       "    <tr>\n",
       "      <th>118</th>\n",
       "      <td>NaN</td>\n",
       "      <td>survivorship bias</td>\n",
       "      <td>Survivorship bias is the logical error of focu...</td>\n",
       "    </tr>\n",
       "  </tbody>\n",
       "</table>\n",
       "<p>119 rows × 3 columns</p>\n",
       "</div>"
      ],
      "text/plain": [
       "     S.No                                           Question  \\\n",
       "0     NaN                                               data   \n",
       "1     NaN                                       Data Science   \n",
       "2     NaN            Where should I learn Data Science from?   \n",
       "3     NaN  Do I need an extremely powerful computer to do...   \n",
       "4     NaN  Can you recommend some blogs, podcasts, course...   \n",
       "..    ...                                                ...   \n",
       "114   NaN                              confounding variables   \n",
       "115   NaN                                         eigenvalue   \n",
       "116   NaN                                        eigenvector   \n",
       "117   NaN                                     selection bias   \n",
       "118   NaN                                  survivorship bias   \n",
       "\n",
       "                                                Answer  \n",
       "0    the quantities, characters, or symbols on whic...  \n",
       "1    Data science is an interdisciplinary field tha...  \n",
       "2    Kaggle is the most popular learning platform a...  \n",
       "3    While this may be the case for industrial leve...  \n",
       "4    KDNuggets Blog, R Bloggers Blog Aggregator and...  \n",
       "..                                                 ...  \n",
       "114  These are extraneous variables in a statistica...  \n",
       "115  Eigenvalues are the directions along which a p...  \n",
       "116  Eigenvectors are for understanding linear tran...  \n",
       "117  Selection bias, in general, is a problematic s...  \n",
       "118  Survivorship bias is the logical error of focu...  \n",
       "\n",
       "[119 rows x 3 columns]"
      ]
     },
     "execution_count": 143,
     "metadata": {},
     "output_type": "execute_result"
    }
   ],
   "source": [
    "df\n",
    "\n"
   ]
  },
  {
   "cell_type": "code",
   "execution_count": 144,
   "metadata": {},
   "outputs": [],
   "source": [
    "df.drop(['S.No'],axis=1,inplace = True)"
   ]
  },
  {
   "cell_type": "code",
   "execution_count": 145,
   "metadata": {},
   "outputs": [],
   "source": [
    "df.columns = ['question','answer']"
   ]
  },
  {
   "cell_type": "code",
   "execution_count": 146,
   "metadata": {},
   "outputs": [],
   "source": [
    "stop_words=stopwords.words('english')\n",
    "lemmatizer = WordNetLemmatizer()"
   ]
  },
  {
   "cell_type": "markdown",
   "metadata": {},
   "source": [
    "### Clean our training data"
   ]
  },
  {
   "cell_type": "code",
   "execution_count": 147,
   "metadata": {},
   "outputs": [
    {
     "name": "stderr",
     "output_type": "stream",
     "text": [
      "119it [00:06, 19.29it/s]\n"
     ]
    }
   ],
   "source": [
    "\n",
    "def clean_data(text):\n",
    "    text=text.lower() #lower the text\n",
    "    text = re.sub(r'[^\\w\\s]', '', text) #remove irrelevant characters    \n",
    "    text = text.split() #convert sentence to tokens\n",
    "    text = [lemmatizer.lemmatize(word) for word in text] #lemmatization\n",
    "    text = \" \".join(text) #converting tokens to sentence\n",
    "    return text\n",
    "df[\"question\"] = df[\"question\"].apply(clean_data)\n",
    "# model_type: word2vec, glove or fasttext\n",
    "aug = naw.WordEmbsAug(\n",
    "    model_type='glove', model_path=\"C:/Users/Sourav Kumar/Documents/College Assignment/glove.6B.100d.txt\",\n",
    "    action=\"substitute\")\n",
    "aug_data = {}\n",
    "for ques,ans in tqdm(zip(df['question'],df['answer'])):\n",
    "    for i in range(4):\n",
    "        aug_data.update({aug.augment(ques):ans})"
   ]
  },
  {
   "cell_type": "code",
   "execution_count": 148,
   "metadata": {},
   "outputs": [
    {
     "data": {
      "text/html": [
       "<div>\n",
       "<style scoped>\n",
       "    .dataframe tbody tr th:only-of-type {\n",
       "        vertical-align: middle;\n",
       "    }\n",
       "\n",
       "    .dataframe tbody tr th {\n",
       "        vertical-align: top;\n",
       "    }\n",
       "\n",
       "    .dataframe thead th {\n",
       "        text-align: right;\n",
       "    }\n",
       "</style>\n",
       "<table border=\"1\" class=\"dataframe\">\n",
       "  <thead>\n",
       "    <tr style=\"text-align: right;\">\n",
       "      <th></th>\n",
       "      <th>question</th>\n",
       "      <th>answer</th>\n",
       "    </tr>\n",
       "  </thead>\n",
       "  <tbody>\n",
       "    <tr>\n",
       "      <th>0</th>\n",
       "      <td>uses</td>\n",
       "      <td>the quantities, characters, or symbols on whic...</td>\n",
       "    </tr>\n",
       "    <tr>\n",
       "      <th>1</th>\n",
       "      <td>according</td>\n",
       "      <td>the quantities, characters, or symbols on whic...</td>\n",
       "    </tr>\n",
       "    <tr>\n",
       "      <th>2</th>\n",
       "      <td>these</td>\n",
       "      <td>the quantities, characters, or symbols on whic...</td>\n",
       "    </tr>\n",
       "    <tr>\n",
       "      <th>3</th>\n",
       "      <td>files</td>\n",
       "      <td>Raw Facts and figure</td>\n",
       "    </tr>\n",
       "    <tr>\n",
       "      <th>4</th>\n",
       "      <td>equipment science</td>\n",
       "      <td>Data science is an interdisciplinary field tha...</td>\n",
       "    </tr>\n",
       "    <tr>\n",
       "      <th>...</th>\n",
       "      <td>...</td>\n",
       "      <td>...</td>\n",
       "    </tr>\n",
       "    <tr>\n",
       "      <th>457</th>\n",
       "      <td>selection motivated</td>\n",
       "      <td>Selection bias, in general, is a problematic s...</td>\n",
       "    </tr>\n",
       "    <tr>\n",
       "      <th>458</th>\n",
       "      <td>matrimonial bias</td>\n",
       "      <td>Survivorship bias is the logical error of focu...</td>\n",
       "    </tr>\n",
       "    <tr>\n",
       "      <th>459</th>\n",
       "      <td>backplate bias</td>\n",
       "      <td>Survivorship bias is the logical error of focu...</td>\n",
       "    </tr>\n",
       "    <tr>\n",
       "      <th>460</th>\n",
       "      <td>greenspace bias</td>\n",
       "      <td>Survivorship bias is the logical error of focu...</td>\n",
       "    </tr>\n",
       "    <tr>\n",
       "      <th>461</th>\n",
       "      <td>survivorship pointing</td>\n",
       "      <td>Survivorship bias is the logical error of focu...</td>\n",
       "    </tr>\n",
       "  </tbody>\n",
       "</table>\n",
       "<p>462 rows × 2 columns</p>\n",
       "</div>"
      ],
      "text/plain": [
       "                  question                                             answer\n",
       "0                     uses  the quantities, characters, or symbols on whic...\n",
       "1                according  the quantities, characters, or symbols on whic...\n",
       "2                    these  the quantities, characters, or symbols on whic...\n",
       "3                    files                               Raw Facts and figure\n",
       "4        equipment science  Data science is an interdisciplinary field tha...\n",
       "..                     ...                                                ...\n",
       "457    selection motivated  Selection bias, in general, is a problematic s...\n",
       "458       matrimonial bias  Survivorship bias is the logical error of focu...\n",
       "459         backplate bias  Survivorship bias is the logical error of focu...\n",
       "460        greenspace bias  Survivorship bias is the logical error of focu...\n",
       "461  survivorship pointing  Survivorship bias is the logical error of focu...\n",
       "\n",
       "[462 rows x 2 columns]"
      ]
     },
     "execution_count": 148,
     "metadata": {},
     "output_type": "execute_result"
    }
   ],
   "source": [
    "aug_df = pd.DataFrame(aug_data.items(),columns=['question','answer'])\n",
    "aug_df"
   ]
  },
  {
   "cell_type": "code",
   "execution_count": 149,
   "metadata": {},
   "outputs": [],
   "source": [
    "final_df = pd.concat([df,aug_df])"
   ]
  },
  {
   "cell_type": "code",
   "execution_count": 150,
   "metadata": {},
   "outputs": [],
   "source": [
    "final_df.to_csv(\"augmented1.csv\",index=False)"
   ]
  },
  {
   "cell_type": "markdown",
   "metadata": {},
   "source": [
    "### Modeling"
   ]
  },
  {
   "cell_type": "code",
   "execution_count": 151,
   "metadata": {},
   "outputs": [],
   "source": [
    "final_df = pd.read_csv(\"augmented1.csv\")"
   ]
  },
  {
   "cell_type": "code",
   "execution_count": 152,
   "metadata": {},
   "outputs": [
    {
     "data": {
      "text/html": [
       "<div>\n",
       "<style scoped>\n",
       "    .dataframe tbody tr th:only-of-type {\n",
       "        vertical-align: middle;\n",
       "    }\n",
       "\n",
       "    .dataframe tbody tr th {\n",
       "        vertical-align: top;\n",
       "    }\n",
       "\n",
       "    .dataframe thead th {\n",
       "        text-align: right;\n",
       "    }\n",
       "</style>\n",
       "<table border=\"1\" class=\"dataframe\">\n",
       "  <thead>\n",
       "    <tr style=\"text-align: right;\">\n",
       "      <th></th>\n",
       "      <th>question</th>\n",
       "      <th>answer</th>\n",
       "    </tr>\n",
       "  </thead>\n",
       "  <tbody>\n",
       "    <tr>\n",
       "      <th>0</th>\n",
       "      <td>data</td>\n",
       "      <td>the quantities, characters, or symbols on whic...</td>\n",
       "    </tr>\n",
       "    <tr>\n",
       "      <th>1</th>\n",
       "      <td>data science</td>\n",
       "      <td>Data science is an interdisciplinary field tha...</td>\n",
       "    </tr>\n",
       "    <tr>\n",
       "      <th>2</th>\n",
       "      <td>where should i learn data science from</td>\n",
       "      <td>Kaggle is the most popular learning platform a...</td>\n",
       "    </tr>\n",
       "    <tr>\n",
       "      <th>3</th>\n",
       "      <td>do i need an extremely powerful computer to do...</td>\n",
       "      <td>While this may be the case for industrial leve...</td>\n",
       "    </tr>\n",
       "    <tr>\n",
       "      <th>4</th>\n",
       "      <td>can you recommend some blog podcasts course et...</td>\n",
       "      <td>KDNuggets Blog, R Bloggers Blog Aggregator and...</td>\n",
       "    </tr>\n",
       "    <tr>\n",
       "      <th>...</th>\n",
       "      <td>...</td>\n",
       "      <td>...</td>\n",
       "    </tr>\n",
       "    <tr>\n",
       "      <th>576</th>\n",
       "      <td>selection motivated</td>\n",
       "      <td>Selection bias, in general, is a problematic s...</td>\n",
       "    </tr>\n",
       "    <tr>\n",
       "      <th>577</th>\n",
       "      <td>matrimonial bias</td>\n",
       "      <td>Survivorship bias is the logical error of focu...</td>\n",
       "    </tr>\n",
       "    <tr>\n",
       "      <th>578</th>\n",
       "      <td>backplate bias</td>\n",
       "      <td>Survivorship bias is the logical error of focu...</td>\n",
       "    </tr>\n",
       "    <tr>\n",
       "      <th>579</th>\n",
       "      <td>greenspace bias</td>\n",
       "      <td>Survivorship bias is the logical error of focu...</td>\n",
       "    </tr>\n",
       "    <tr>\n",
       "      <th>580</th>\n",
       "      <td>survivorship pointing</td>\n",
       "      <td>Survivorship bias is the logical error of focu...</td>\n",
       "    </tr>\n",
       "  </tbody>\n",
       "</table>\n",
       "<p>581 rows × 2 columns</p>\n",
       "</div>"
      ],
      "text/plain": [
       "                                              question  \\\n",
       "0                                                 data   \n",
       "1                                         data science   \n",
       "2               where should i learn data science from   \n",
       "3    do i need an extremely powerful computer to do...   \n",
       "4    can you recommend some blog podcasts course et...   \n",
       "..                                                 ...   \n",
       "576                                selection motivated   \n",
       "577                                   matrimonial bias   \n",
       "578                                     backplate bias   \n",
       "579                                    greenspace bias   \n",
       "580                              survivorship pointing   \n",
       "\n",
       "                                                answer  \n",
       "0    the quantities, characters, or symbols on whic...  \n",
       "1    Data science is an interdisciplinary field tha...  \n",
       "2    Kaggle is the most popular learning platform a...  \n",
       "3    While this may be the case for industrial leve...  \n",
       "4    KDNuggets Blog, R Bloggers Blog Aggregator and...  \n",
       "..                                                 ...  \n",
       "576  Selection bias, in general, is a problematic s...  \n",
       "577  Survivorship bias is the logical error of focu...  \n",
       "578  Survivorship bias is the logical error of focu...  \n",
       "579  Survivorship bias is the logical error of focu...  \n",
       "580  Survivorship bias is the logical error of focu...  \n",
       "\n",
       "[581 rows x 2 columns]"
      ]
     },
     "execution_count": 152,
     "metadata": {},
     "output_type": "execute_result"
    }
   ],
   "source": [
    "final_df"
   ]
  },
  {
   "cell_type": "code",
   "execution_count": 153,
   "metadata": {},
   "outputs": [],
   "source": [
    "X = final_df['question']\n",
    "y = final_df['answer']"
   ]
  },
  {
   "cell_type": "code",
   "execution_count": 154,
   "metadata": {},
   "outputs": [],
   "source": [
    "le = LabelEncoder()\n",
    "y = le.fit_transform(y)"
   ]
  },
  {
   "cell_type": "code",
   "execution_count": 155,
   "metadata": {},
   "outputs": [
    {
     "data": {
      "text/plain": [
       "SGDClassifier(alpha=0.0005, loss='modified_huber', n_jobs=-1, random_state=100)"
      ]
     },
     "execution_count": 155,
     "metadata": {},
     "output_type": "execute_result"
    }
   ],
   "source": [
    "tf = TfidfVectorizer(ngram_range=(1, 3),min_df=0,stop_words='english')\n",
    "X_w = tf.fit_transform(X)\n",
    "\n",
    "model = SGDClassifier(n_jobs=-1,random_state=100,loss='modified_huber',alpha=0.0005)\n",
    "model.fit(X_w,y)"
   ]
  },
  {
   "cell_type": "code",
   "execution_count": null,
   "metadata": {},
   "outputs": [],
   "source": []
  },
  {
   "cell_type": "code",
   "execution_count": 156,
   "metadata": {},
   "outputs": [],
   "source": [
    "# X_train, X_test, y_train, y_test = train_test_split(X,y,test_size=0.20)"
   ]
  },
  {
   "cell_type": "code",
   "execution_count": 157,
   "metadata": {},
   "outputs": [],
   "source": [
    "\n",
    "#X_train_tf = tf.fit_transform(X_train)"
   ]
  },
  {
   "cell_type": "code",
   "execution_count": 158,
   "metadata": {},
   "outputs": [],
   "source": [
    "# X_test_tf = tf.transform(X_test)"
   ]
  },
  {
   "cell_type": "code",
   "execution_count": 159,
   "metadata": {},
   "outputs": [],
   "source": [
    "# model = SGDClassifier(n_jobs=-1,random_state=100,loss='modified_huber',alpha=0.0005)\n",
    "# model.fit(X_train_tf,y_train)"
   ]
  },
  {
   "cell_type": "code",
   "execution_count": 160,
   "metadata": {},
   "outputs": [],
   "source": [
    "y_pred = model.predict(X_w)"
   ]
  },
  {
   "cell_type": "code",
   "execution_count": 161,
   "metadata": {},
   "outputs": [],
   "source": [
    "\n",
    "labels = np.unique(y)\n",
    "ytest_prob = label_binarize(y, classes=labels)\n",
    "ypred_prob = label_binarize(y_pred, classes=labels)"
   ]
  },
  {
   "cell_type": "code",
   "execution_count": 162,
   "metadata": {},
   "outputs": [
    {
     "data": {
      "text/plain": [
       "<581x1277 sparse matrix of type '<class 'numpy.float64'>'\n",
       "\twith 2228 stored elements in Compressed Sparse Row format>"
      ]
     },
     "execution_count": 162,
     "metadata": {},
     "output_type": "execute_result"
    }
   ],
   "source": [
    "X_w"
   ]
  },
  {
   "cell_type": "code",
   "execution_count": 163,
   "metadata": {},
   "outputs": [
    {
     "name": "stdout",
     "output_type": "stream",
     "text": [
      "Accuracy Score: 0.9707401032702238\n",
      "Precision Score: 0.9707401032702238\n",
      "Recall Score: 0.9707401032702238\n",
      "ROC-AUC Score: 0.9852460690218501\n"
     ]
    }
   ],
   "source": [
    "print(\"Accuracy Score:\",accuracy_score(y,y_pred))\n",
    "print(\"Precision Score:\",precision_score(y,y_pred,average='micro'))\n",
    "print(\"Recall Score:\",recall_score(y,y_pred,average='micro'))\n",
    "print(\"ROC-AUC Score:\",roc_auc_score(ytest_prob,ypred_prob,multi_class='ovo',average='micro'))"
   ]
  },
  {
   "cell_type": "code",
   "execution_count": 164,
   "metadata": {},
   "outputs": [
    {
     "name": "stdout",
     "output_type": "stream",
     "text": [
      "Question: what doe a data science job usually involve\n",
      "\n",
      "Predicted Answer:\n",
      "A very common misconception is that data scientists spend the majority of their time building predictive models and feature engineering.\n",
      "\n",
      "Actual Answer:\n",
      "A very common misconception is that data scientists spend the majority of their time building predictive models and feature engineering.\n"
     ]
    }
   ],
   "source": [
    "idx = 7\n",
    "print(f\"Question: {X.iloc[idx]}\")\n",
    "print(f\"\\nPredicted Answer:\\n{le.inverse_transform(model.predict(X_w[idx]))[0]}\")\n",
    "print(f\"\\nActual Answer:\\n{le.inverse_transform([y[idx]])[0]}\")"
   ]
  },
  {
   "cell_type": "code",
   "execution_count": 167,
   "metadata": {},
   "outputs": [],
   "source": [
    "import pickle\n",
    "\n",
    "file = open('DS_chatbot.pkl','wb')\n",
    "\n",
    "pickle.dump(model,file)\n",
    "\n"
   ]
  },
  {
   "cell_type": "code",
   "execution_count": 168,
   "metadata": {},
   "outputs": [],
   "source": [
    "model2 = open('DS_chatbot.pkl','rb')\n",
    "\n",
    "forest = pickle.load(model2)"
   ]
  },
  {
   "cell_type": "code",
   "execution_count": null,
   "metadata": {},
   "outputs": [],
   "source": []
  },
  {
   "cell_type": "code",
   "execution_count": null,
   "metadata": {},
   "outputs": [
    {
     "data": {
      "text/plain": [
       "array(['Raw Facts and figure'], dtype=object)"
      ]
     },
     "execution_count": 140,
     "metadata": {},
     "output_type": "execute_result"
    }
   ],
   "source": [
    "le1.inverse_transform(forest.predict(tf1.transform([clean_data('data')])))"
   ]
  },
  {
   "cell_type": "code",
   "execution_count": null,
   "metadata": {},
   "outputs": [],
   "source": [
    "tf1 = TfidfVectorizer(ngram_range=(1, 3),min_df=0,stop_words='english')\n",
    "le1 = LabelEncoder()"
   ]
  },
  {
   "cell_type": "code",
   "execution_count": null,
   "metadata": {},
   "outputs": [],
   "source": [
    "y = final_df['answer']\n",
    "y_t = le1.fit_transform(y)"
   ]
  },
  {
   "cell_type": "code",
   "execution_count": null,
   "metadata": {},
   "outputs": [],
   "source": [
    "X_t = tf1.fit_transform(X)"
   ]
  },
  {
   "cell_type": "code",
   "execution_count": null,
   "metadata": {},
   "outputs": [],
   "source": [
    "X_tes = tf1.transform(X_test)"
   ]
  },
  {
   "cell_type": "code",
   "execution_count": null,
   "metadata": {},
   "outputs": [],
   "source": []
  }
 ],
 "metadata": {
  "interpreter": {
   "hash": "d6d678da81879073caf0d631442bae95882f48c522b37aa46170d873ce1046a3"
  },
  "kernelspec": {
   "display_name": "Python 3.8.8 64-bit ('base': conda)",
   "language": "python",
   "name": "python3"
  },
  "language_info": {
   "codemirror_mode": {
    "name": "ipython",
    "version": 3
   },
   "file_extension": ".py",
   "mimetype": "text/x-python",
   "name": "python",
   "nbconvert_exporter": "python",
   "pygments_lexer": "ipython3",
   "version": "3.8.8"
  },
  "orig_nbformat": 4
 },
 "nbformat": 4,
 "nbformat_minor": 2
}
